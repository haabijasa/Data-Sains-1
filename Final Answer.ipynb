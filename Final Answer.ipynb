{
 "cells": [
  {
   "cell_type": "markdown",
   "id": "34b24b9c",
   "metadata": {},
   "source": [
    "# BASIC PROBLEM STATEMENT\n",
    "## Masalah yang akan diselesaikan yaitu apakah mayoritas pembeli menggunakan voucher diskon ?, asumsikan bahwa data yang dimiliki yaitu food_delivery_datasets.csv. Maka algoritma nya yaitu :\n",
    "### 1. Import Dataset dan Library\n",
    "### 2. Cleaning data dengan status completed\n",
    "### 3. Gunakan kolom voucher_amount dan status"
   ]
  },
  {
   "cell_type": "markdown",
   "id": "d967d3aa",
   "metadata": {},
   "source": [
    "### 1. Import library\n",
    "#### library yang digunakan hanya pandas karena saya hanya membutuhkan 'pd.read_csv' untuk membaca data berupa file csv, kemudian mengimpor data yaitu food_delivery_datasets"
   ]
  },
  {
   "cell_type": "code",
   "execution_count": 13,
   "id": "f7c6007a",
   "metadata": {},
   "outputs": [],
   "source": [
    "import pandas as pd\n",
    "df=pd.read_csv('https://raw.githubusercontent.com/alamhanz/pandas_journey/main/mydata/food_delivery_datasets.csv')"
   ]
  },
  {
   "cell_type": "markdown",
   "id": "356283d6",
   "metadata": {},
   "source": [
    "#### kelompokkan data berdasarkan status menggunakan perintah 'groupby', karena data yang akan dikelompokkan adalah food_delivery_datasets.csv yang telah dimisakan dengan 'df', maka perintahnya yaitu \"df.groupby('status')\"\n",
    "#### kemudian cetak hasil pengelompokkan tadi dengan perintah \"group_status['status'].size()"
   ]
  },
  {
   "cell_type": "code",
   "execution_count": 12,
   "id": "61842bf1",
   "metadata": {},
   "outputs": [
    {
     "data": {
      "text/plain": [
       "status\n",
       "Completed    881\n",
       "Name: status, dtype: int64"
      ]
     },
     "execution_count": 12,
     "metadata": {},
     "output_type": "execute_result"
    }
   ],
   "source": [
    "group_status = df.groupby('status')\n",
    "group_status['status'].size()"
   ]
  },
  {
   "cell_type": "markdown",
   "id": "1f00cd78",
   "metadata": {},
   "source": [
    "#### Cleaning dataset dengan mensortir orderan dengan status 'completed', kemudian index data baru yang hanya memiliki status order 'completed'\n",
    "#### Karena data sudah dipisahkan dengan status 'Cancelled', maka yang perlu dilakukan adalah mengelompokkan order dengan voucher_amount menggunakan perintah 'groupby', lalu cetak data yang telah diolah"
   ]
  },
  {
   "cell_type": "code",
   "execution_count": 14,
   "id": "2e0aab43",
   "metadata": {},
   "outputs": [
    {
     "data": {
      "text/plain": [
       "voucher_amount\n",
       "0        743\n",
       "2000       5\n",
       "3000      13\n",
       "4000      13\n",
       "5000      69\n",
       "6000       3\n",
       "7000       1\n",
       "8000       1\n",
       "9000       2\n",
       "10000      9\n",
       "12000      1\n",
       "15000     15\n",
       "16500      1\n",
       "20000      3\n",
       "25000      2\n",
       "Name: voucher_amount, dtype: int64"
      ]
     },
     "execution_count": 14,
     "metadata": {},
     "output_type": "execute_result"
    }
   ],
   "source": [
    "df = df[df.status == 'Completed']\n",
    "df.reset_index(drop=True)\n",
    "group_voucher = df.groupby('voucher_amount')\n",
    "group_voucher['voucher_amount'].size()"
   ]
  },
  {
   "cell_type": "markdown",
   "id": "5ecefe0a",
   "metadata": {},
   "source": [
    "#### Dari hasil di atas, dapat dilihat bahwa sebanyak 743 dari 881 order tidak menggunakan voucher diskon karena nilai voucher_amount nya 0, sehingga dapat disimpulkan bahwa mayoritas pembeli yang menyelesaikan orderannya (berstatus 'completed') tidak menggunakan voucher diskon"
   ]
  }
 ],
 "metadata": {
  "kernelspec": {
   "display_name": "Python 3 (ipykernel)",
   "language": "python",
   "name": "python3"
  },
  "language_info": {
   "codemirror_mode": {
    "name": "ipython",
    "version": 3
   },
   "file_extension": ".py",
   "mimetype": "text/x-python",
   "name": "python",
   "nbconvert_exporter": "python",
   "pygments_lexer": "ipython3",
   "version": "3.9.7"
  }
 },
 "nbformat": 4,
 "nbformat_minor": 5
}
