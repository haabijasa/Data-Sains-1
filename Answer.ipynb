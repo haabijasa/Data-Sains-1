{
 "cells": [
  {
   "cell_type": "code",
   "execution_count": 17,
   "id": "6e826811",
   "metadata": {},
   "outputs": [
    {
     "data": {
      "text/plain": [
       "voucher_amount\n",
       "0        743\n",
       "2000       5\n",
       "3000      13\n",
       "4000      13\n",
       "5000      69\n",
       "6000       3\n",
       "7000       1\n",
       "8000       1\n",
       "9000       2\n",
       "10000      9\n",
       "12000      1\n",
       "15000     15\n",
       "16500      1\n",
       "20000      3\n",
       "25000      2\n",
       "Name: voucher_amount, dtype: int64"
      ]
     },
     "execution_count": 17,
     "metadata": {},
     "output_type": "execute_result"
    }
   ],
   "source": [
    "import pandas as pd\n",
    "from collections import Counter\n",
    "df = pd.read_csv('https://raw.githubusercontent.com/alamhanz/pandas_journey/main/mydata/food_delivery_datasets.csv')\n",
    "group_status = df.groupby('status')\n",
    "group_status['status'].size()\n",
    "df = df[df.status == 'Completed']\n",
    "df.reset_index(drop=True)\n",
    "group_voucher = df.groupby('voucher_amount')\n",
    "group_voucher['voucher_amount'].size()"
   ]
  },
  {
   "cell_type": "code",
   "execution_count": null,
   "id": "2d9c280a",
   "metadata": {},
   "outputs": [],
   "source": []
  },
  {
   "cell_type": "code",
   "execution_count": null,
   "id": "21532206",
   "metadata": {},
   "outputs": [],
   "source": []
  }
 ],
 "metadata": {
  "kernelspec": {
   "display_name": "Python 3 (ipykernel)",
   "language": "python",
   "name": "python3"
  },
  "language_info": {
   "codemirror_mode": {
    "name": "ipython",
    "version": 3
   },
   "file_extension": ".py",
   "mimetype": "text/x-python",
   "name": "python",
   "nbconvert_exporter": "python",
   "pygments_lexer": "ipython3",
   "version": "3.9.7"
  }
 },
 "nbformat": 4,
 "nbformat_minor": 5
}
